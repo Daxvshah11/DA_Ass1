{
 "cells": [
  {
   "cell_type": "markdown",
   "metadata": {},
   "source": [
    "# ASSIGNMENT 2 : Team 8"
   ]
  },
  {
   "cell_type": "markdown",
   "metadata": {},
   "source": [
    "## `Assumptions`\n",
    "\n",
    "* Based in the _USA_ according to all the given county, state and city names. Assuming it's the ONLY country's data\n",
    "\n",
    "* __VIN__ stands for __Vehicle Identification Number__ and its purpose is to uniquely identify each vehicle in the country (just like a Number Plate). _DOL Vehicle ID_ stands for Department of Licensing Vehicle ID and again, seems that the purpose of it is also to uniquely ID each vehicle in the country\n",
    "\n",
    "* Although, on checking, VIN is not unique for all the rows while DOL is unique for all rows. Thus, dropping DOLVID as there is no usecase for it since unique for all rows"
   ]
  },
  {
   "cell_type": "markdown",
   "metadata": {},
   "source": [
    "## `All Imports`"
   ]
  },
  {
   "cell_type": "code",
   "execution_count": 12,
   "metadata": {},
   "outputs": [],
   "source": [
    "import pandas as pd"
   ]
  },
  {
   "cell_type": "markdown",
   "metadata": {
    "vscode": {
     "languageId": "plaintext"
    }
   },
   "source": [
    "## `Loading & Pre-processing Dataset`"
   ]
  },
  {
   "cell_type": "code",
   "execution_count": 13,
   "metadata": {},
   "outputs": [
    {
     "name": "stdout",
     "output_type": "stream",
     "text": [
      "Total rows: 181458\n",
      "Rows with NaN: 403\n",
      "\n",
      "Thus, simply dropping all the rows with even a single NaN value as its almost a negligible number compared to total rows!\n",
      "\n",
      "Total rows Now: 181055\n",
      "Total unique DOL Vehicle ID: 181055\n",
      "Dropping DOL Vehicle ID column as its unique for all rows (no generalisation possible)!\n"
     ]
    }
   ],
   "source": [
    "MAIN_DATA = pd.read_csv(\"Electric_Vehicle_Data.csv\")\n",
    "\n",
    "# Total Rows & Rows with NaN (even single one of it)\n",
    "print(\"Total rows:\", len(MAIN_DATA))\n",
    "print(\"Rows with NaN:\", len(MAIN_DATA[MAIN_DATA.isnull().any(axis=1)]))\n",
    "print(\n",
    "    \"\\nThus, simply dropping all the rows with even a single NaN value as its almost a negligible number compared to total rows!\"\n",
    ")\n",
    "\n",
    "# Dropping rows with NaN (even single one of it amongst the columns)\n",
    "MAIN_DATA = MAIN_DATA.dropna()\n",
    "\n",
    "# Printing all the total rows now\n",
    "print(\"\\nTotal rows Now:\", len(MAIN_DATA))\n",
    "\n",
    "# Total unique DOL Vehicle ID\n",
    "print(\"Total unique DOL Vehicle ID:\", len(MAIN_DATA[\"DOL Vehicle ID\"].unique()))\n",
    "\n",
    "# Dropping DOLVID column\n",
    "print(\n",
    "    \"Dropping DOL Vehicle ID column as its unique for all rows (no generalisation possible)!\"\n",
    ")\n",
    "\n",
    "# Dropping DOLVID as its of no use (unique for all so cant generalise)\n",
    "MAIN_DATA.drop(columns=[\"DOL Vehicle ID\"], inplace=True)"
   ]
  },
  {
   "cell_type": "markdown",
   "metadata": {},
   "source": [
    "## `Unique Values (for all columns)`"
   ]
  },
  {
   "cell_type": "code",
   "execution_count": 14,
   "metadata": {},
   "outputs": [
    {
     "name": "stdout",
     "output_type": "stream",
     "text": [
      "\n",
      "Total unique values for each of the column:\n",
      "VIN : 11055\n",
      "County : 39\n",
      "City : 468\n",
      "State : 1\n",
      "Postal Code : 542\n",
      "Model Year : 22\n",
      "Make : 40\n",
      "Model : 143\n",
      "Electric Vehicle Type : 2\n",
      "Clean Alternative Fuel Vehicle (CAFV) Eligibility : 3\n",
      "Electric Range : 103\n",
      "Base MSRP : 31\n",
      "Legislative District : 49\n",
      "Vehicle Location : 542\n",
      "Electric Utility : 75\n",
      "2020 Census Tract : 1767\n"
     ]
    }
   ],
   "source": [
    "# Renaming the VIN column\n",
    "MAIN_DATA.rename(columns={\"VIN (1-10)\": \"VIN\"}, inplace=True)\n",
    "\n",
    "# Total unique values for each of the column\n",
    "print(\"\\nTotal unique values for each of the column:\")\n",
    "for col in MAIN_DATA.columns:\n",
    "    print(col, \":\", len(MAIN_DATA[col].unique()))"
   ]
  },
  {
   "cell_type": "markdown",
   "metadata": {},
   "source": [
    "## `Dropping columns`"
   ]
  },
  {
   "cell_type": "code",
   "execution_count": 15,
   "metadata": {},
   "outputs": [
    {
     "name": "stdout",
     "output_type": "stream",
     "text": [
      "\n",
      "Below are the columns that are dropped in the pre-processing part:\n",
      "-> Removing State as there is ONLY one State unique value!\n",
      "-> Dropping Postal code as its redundant!\n",
      "-> Dropping Legislative District as its not helping in any kind of data generalisation!\n",
      "-> Dropping Latitude Longitude data as its of no use (redundant & not generalisable)!\n"
     ]
    }
   ],
   "source": [
    "print(\"\\nBelow are the columns that are dropped in the pre-processing part:\")\n",
    "\n",
    "# Removing State as there is ONLY one State unique value\n",
    "print(\"-> Removing State as there is ONLY one State unique value!\")\n",
    "MAIN_DATA.drop(columns=[\"State\"], inplace=True)\n",
    "\n",
    "# Dropping Postal code as its redundant\n",
    "print(\"-> Dropping Postal code as its redundant!\")\n",
    "MAIN_DATA.drop(columns=[\"Postal Code\"], inplace=True)\n",
    "\n",
    "# Dropping Legislative District\n",
    "print(\"-> Dropping Legislative District as its not helping in any kind of data generalisation!\")\n",
    "MAIN_DATA.drop(columns=[\"Legislative District\"], inplace=True)\n",
    "\n",
    "# Dropping Latitude Longitude data as its of no use (redundant)\n",
    "print(\"-> Dropping Latitude Longitude data as its of no use (redundant & not generalisable)!\")\n",
    "MAIN_DATA.drop(columns=[\"Vehicle Location\"], inplace=True)\n",
    "\n",
    "# Making new file for MAIN_DATA (FINAL PRE-PROCESSED DATA)\n",
    "MAIN_DATA.to_csv(\"MAIN_DATA.csv\")"
   ]
  },
  {
   "cell_type": "markdown",
   "metadata": {},
   "source": [
    "## `Relation b/w City, County & State`"
   ]
  },
  {
   "cell_type": "code",
   "execution_count": 16,
   "metadata": {},
   "outputs": [],
   "source": [
    "# CODE HERE"
   ]
  }
 ],
 "metadata": {
  "kernelspec": {
   "display_name": "Python 3",
   "language": "python",
   "name": "python3"
  },
  "language_info": {
   "codemirror_mode": {
    "name": "ipython",
    "version": 3
   },
   "file_extension": ".py",
   "mimetype": "text/x-python",
   "name": "python",
   "nbconvert_exporter": "python",
   "pygments_lexer": "ipython3",
   "version": "3.10.12"
  }
 },
 "nbformat": 4,
 "nbformat_minor": 2
}
